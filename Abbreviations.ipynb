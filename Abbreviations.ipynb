{
 "cells": [
  {
   "cell_type": "code",
   "execution_count": 6,
   "id": "71500e6a-8e14-4798-80f6-441568c93722",
   "metadata": {},
   "outputs": [],
   "source": [
    "abbreviations_nihilism = {\n",
    "    'Nietzsche_antichrist.txt': 'Nietzsche - Antichrist',\n",
    "    'Nietzsche_The Will to Power.txt': 'Nietzsche - Will to Power',\n",
    "    'Nietzsche_The-Birth-of-Tragedy.txt': 'Nietzsche - Birth of Tragedy',\n",
    "    'Cioran_heights.txt': 'Cioran - Heights',\n",
    "    'Cioran_short.txt': 'Cioran - Short',\n",
    "    'Cioran_Trouble.txt': 'Cioran - Trouble',\n",
    "    'Sartre_being-and-nothingness.txt': 'Sartre - Being and Nothingness',\n",
    "    'Sartre_eih.txt': 'Sartre - EIH',\n",
    "    'Sartre_Nausea.txt': 'Sartre - Nausea',\n",
    "    'Schopenhauer_On the Sufferings of the World - Arthur Schopenhauer - PDF.txt': 'Schopenhauer - Sufferings',\n",
    "    'Schopenhauer_vanity.txt': 'Schopenhauer - Vanity',\n",
    "    'Schopenhauer_world-as-.txt': 'Schopenhauer - World as Will',\n",
    "    'Camus_Myth of Sisyphus.txt': 'Camus - Myth of Sisyphus',\n",
    "    'Camus_ThePlague-Camus.txt': 'Camus - The Plague',\n",
    "    'Camus_The_Stranger_-_Albert_Camus.txt': 'Camus - The Stranger',\n",
    "    'Marcel_being_and_having.txt': 'Marcel - Being and Having',\n",
    "    'Marcel_mystery-of-being.txt': 'Marcel - Mystery of Being',\n",
    "    'Marcel_viator.txt': 'Marcel - Viator',\n",
    "    'Kierkegaard_Fear and Trembling book Kierkegaard.txt': 'Kierkegaard - Fear and Trembling',\n",
    "    'Kierkegaard_Fragments.txt': 'Kierkegaard - Fragments',\n",
    "    'Kierkegaard_The Concept of Anxiety.txt': 'Kierkegaard - Concept of Anxiety',\n",
    "    'Buber_Between_Man_and_Man.txt': 'Buber - Between Man and Man',\n",
    "    'Buber_Way-of_man.txt': 'Buber - Way of Man'\n",
    "}"
   ]
  },
  {
   "cell_type": "code",
   "execution_count": 7,
   "id": "0161a154-393c-4ade-807d-aa1ef4c7a9f8",
   "metadata": {},
   "outputs": [],
   "source": [
    "abbreviations_romanticism = {\n",
    "    'Burke_Reflections.txt': 'Burke - Reflections',\n",
    "    'Burke_VindicationNaturalSociety.txt': 'Burke - Vindication',\n",
    "    'Coleridge_kubla.txt': 'Coleridge - Kubla Khan',\n",
    "    'Coleridge_The-Rime-of-the-Ancient-Mariner.txt': 'Coleridge - Rime of Ancient Mariner',\n",
    "    'Goethe_Apprecitce.txt': 'Goethe - Apprentice',\n",
    "    'Goethe_faust.txt': 'Goethe - Faust',\n",
    "    'Goethe_Sorrows.txt': 'Goethe - Sorrows of Young Werther',\n",
    "    'Hegel_right.txt': 'Hegel - Right',\n",
    "    'Hegel_The Phenomenology of Spirit .txt': 'Hegel - Phenomenology of Spirit',\n",
    "    'Hegel_The_Science_of_Logic.txt': 'Hegel - Science of Logic',\n",
    "    'Hume_enquiry.txt': 'Hume - Enquiry',\n",
    "    'Hume_Natural_Religion.txt': 'Hume - Natural Religion',\n",
    "    'Hume_Treatise_Human_Nature.txt': 'Hume - Treatise of Human Nature',\n",
    "    'Kant_Groundwork.txt': 'Kant - Groundwork',\n",
    "    'Kant_Immanuel_Judgement.txt': 'Kant - Critique of Judgement',\n",
    "    'Kant_Pure_reason.txt': 'Kant - Critique of Pure Reason',\n",
    "    'Rousseau_Education.txt': 'Rousseau - Emile',\n",
    "    'Rousseau_Social_Contract.txt': 'Rousseau - Social Contract',\n",
    "    'Rousseau_The_Confessions-Jean-Jacques_Rousseau.txt': 'Rousseau - Confessions',\n",
    "    'Wordsworth_Ballads.txt': 'Wordsworth - Ballads',\n",
    "    'Wordsworth_Prelude.txt': 'Wordsworth - Prelude',\n",
    "    'Wordsworth_tintern.txt': 'Wordsworth - Tintern Abbey'\n",
    "}\n"
   ]
  },
  {
   "cell_type": "code",
   "execution_count": 8,
   "id": "c67e4e3f-b92d-4098-8586-21efd366836f",
   "metadata": {},
   "outputs": [],
   "source": [
    "abbreviations_stoicism = {\n",
    "    'Camus_Myth of Sisyphus.txt': 'Camus - Myth of Sisyphus',\n",
    "    'Camus_ThePlague-Camus.txt': 'Camus - The Plague',\n",
    "    'Camus_The_Stranger_-_Albert_Camus.txt': 'Camus - The Stranger',\n",
    "    'Foucault_disciplineandpunish-min.txt': 'Foucault - Discipline and Punish (Min)',\n",
    "    'Foucault_Michel_Discipline_and_Punish_The_Birth_of_the_Prison_1977_1995.txt': 'Foucault - Discipline and Punish',\n",
    "    'Foucault_Michel_The_History_of_Sexuality_1_An_Introduction.txt': 'Foucault - History of Sexuality',\n",
    "    'Hadot_philosophy-as-a-way-of-life-spiritual-exercises-from-socrates-to-foucault-1.txt': 'Hadot - Philosophy as a Way of Life',\n",
    "    'Hadot_the-inner-citadel-the-meditations-of-marcus-aurelius-pdfdrive-.txt': 'Hadot - Inner Citadel',\n",
    "    'Hadot_The_Present_Alone_is_Our_Happiness_Co.txt': 'Hadot - Present Alone is Our Happiness',\n",
    "    'Holiday_Ego_is_the_Enenmyz-lib.org_.txt': 'Holiday - Ego is the Enemy',\n",
    "    'Holiday_The_Daily_Stoic_366_Meditations_on_Wisdom,_Perseverance,_and_the.txt': 'Holiday - The Daily Stoic',\n",
    "    'Holiday_The_Obstacle_In_The_Way.txt': 'Holiday - The Obstacle is the Way',\n",
    "    'Irvine_why_we_want.txt': 'Irvine - Why We Want',\n",
    "    'Montaigne_essays.txt': 'Montaigne - Essays',\n",
    "    'Nietzsche_The Will to Power.txt': 'Nietzsche - Will to Power',\n",
    "    'Nietzsche_The-Birth-of-Tragedy.txt': 'Nietzsche - Birth of Tragedy',\n",
    "    'Sartre_being-and-nothingness.txt': 'Sartre - Being and Nothingness',\n",
    "    'Sartre_eih.txt': 'Sartre - Existentialism is a Humanism',\n",
    "    'Sartre_Nausea.txt': 'Sartre - Nausea'\n",
    "}"
   ]
  },
  {
   "cell_type": "code",
   "execution_count": 17,
   "id": "84187d5c-e010-48c6-af0b-c4969db11fef",
   "metadata": {},
   "outputs": [],
   "source": [
    "with open('abbreviations.py', 'w') as f:\n",
    "    f.write(f\"abbreviations_nihilism = {abbreviations_nihilism}\")\n",
    "    f.write(f\"abbreviations_romanticism = {abbreviations_romanticism}\")\n",
    "    f.write(f\"abbreviations_stoicism = {abbreviations_stoicism}\")"
   ]
  }
 ],
 "metadata": {
  "kernelspec": {
   "display_name": "Python 3 (ipykernel)",
   "language": "python",
   "name": "python3"
  },
  "language_info": {
   "codemirror_mode": {
    "name": "ipython",
    "version": 3
   },
   "file_extension": ".py",
   "mimetype": "text/x-python",
   "name": "python",
   "nbconvert_exporter": "python",
   "pygments_lexer": "ipython3",
   "version": "3.12.4"
  }
 },
 "nbformat": 4,
 "nbformat_minor": 5
}
